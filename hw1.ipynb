{
 "cells": [
  {
   "cell_type": "markdown",
   "metadata": {},
   "source": [
    "**Общая информация**\n",
    "\n",
    "**Срок сдачи:** 13 марта 2017, 06:00 <br\\>\n",
    "**Штраф за опоздание:** -2 балла после 06:00 13 марта, -4 балла после 06:00 20 марта, -6 баллов после 06:00 27 марта\n",
    "\n",
    "При отправлении ДЗ указывайте фамилию в названии файла\n",
    "Присылать ДЗ необходимо в виде ссылки на свой github репозиторий в slack @alkhamush\n",
    "\n",
    "Необходимо в slack создать таск в приватный чат:\n",
    "/todo Фамилия Имя ссылка на гитхаб @alkhamush\n",
    "Пример:\n",
    "/todo Ксения Стройкова https://github.com/stroykova/spheremailru/stroykova_hw1.ipynb @alkhamush\n",
    "\n",
    "Используйте данный Ipython Notebook при оформлении домашнего задания."
   ]
  },
  {
   "cell_type": "markdown",
   "metadata": {},
   "source": [
    "###### Задание 1 (2 баллов)\n",
    "Реализовать KNN в классе MyKNeighborsClassifier (обязательное условие: точность не ниже sklearn реализации)\n",
    "Разберитесь самостоятельно, какая мера расстояния используется в KNeighborsClassifier дефолтно и реализуйте свой алгоритм именно с этой мерой. Самостоятельно разберитесь, как считается score из KNeighborsClassifier и реализуйте аналог в своём классе.\n",
    "\n",
    "###### Задание 2 (2 балла)\n",
    "Добиться скорости работы на fit,  predict и predict_proba сравнимой со sklearn 4 балла для iris и mnist\n",
    "Для этого используем numpy\n",
    "\n",
    "###### Задание 3 (2 балла)\n",
    "Для iris найдите такой параметр n_neighbors, при котором выдаётся наилучший score. Нарисуйте график зависимости score от n_neighbors\n",
    "\n",
    "###### Задание 3 (2 балла)\n",
    "Выполнить требования pep8\n",
    "\n",
    "###### Задание 5 (2 балла)\n",
    "Описать для чего нужны следующие библиотеки/классы/функции (список будет ниже)\n"
   ]
  },
  {
   "cell_type": "code",
   "execution_count": 23,
   "metadata": {},
   "outputs": [],
   "source": [
    "import numpy as np\n",
    "import matplotlib.pyplot as plt\n",
    "\n",
    "import seaborn as sns\n",
    "from sklearn import datasets\n",
    "from sklearn.base import ClassifierMixin\n",
    "from sklearn.datasets import fetch_mldata\n",
    "from sklearn.neighbors.base import NeighborsBase, KNeighborsMixin, SupervisedIntegerMixin \n",
    "from sklearn.model_selection import train_test_split\n",
    "from sklearn.neighbors import KNeighborsClassifier\n",
    "from scipy import stats\n",
    "from scipy.spatial.distance import cdist\n",
    "#%load_ext pycodestyle_magic"
   ]
  },
  {
   "cell_type": "code",
   "execution_count": 24,
   "metadata": {
    "collapsed": true
   },
   "outputs": [],
   "source": [
    "class MyKNeighborsClassifier(NeighborsBase, KNeighborsMixin, SupervisedIntegerMixin, ClassifierMixin):\n",
    "\n",
    "    def __init__(self, n_neighbors):\n",
    "        self._init_params(n_neighbors=n_neighbors)\n",
    "\n",
    "    def fit(self, X, y):\n",
    "        X = X.astype(float)\n",
    "        y = y.astype(int)\n",
    "        super(MyKNeighborsClassifier, self).fit(X, y)\n",
    "\n",
    "    def predict(self, X):\n",
    "        X = X.astype(float)\n",
    "        neigh_dist, neigh_ind = self.kneighbors(X)\n",
    "        classes_ = self.classes_\n",
    "        _y = self._y\n",
    "        if not self.outputs_2d_:\n",
    "            _y = self._y.reshape((-1, 1))\n",
    "            classes_ = [self.classes_]\n",
    "\n",
    "        n_outputs = len(classes_)\n",
    "        n_samples = X.shape[0]\n",
    "        y_pred = np.empty((n_samples, n_outputs), dtype=classes_[0].dtype)\n",
    "        for k, classes_k in enumerate(classes_):\n",
    "            mode, _ = stats.mode(_y[neigh_ind, k], axis=1)\n",
    "            mode = np.asarray(mode.ravel(), dtype=np.intp)\n",
    "            y_pred[:, k] = classes_k.take(mode)\n",
    "\n",
    "        if not self.outputs_2d_:\n",
    "            y_pred = y_pred.ravel()\n",
    "\n",
    "        return y_pred\n",
    "\n",
    "    def predict_proba(self, X):\n",
    "        X = X.astype(float)\n",
    "        neigh_dist, neigh_ind = self.kneighbors(X)\n",
    "\n",
    "        classes_ = self.classes_\n",
    "        _y = self._y\n",
    "        if not self.outputs_2d_:\n",
    "            _y = self._y.reshape((-1, 1))\n",
    "            classes_ = [self.classes_]\n",
    "\n",
    "        n_samples = X.shape[0]\n",
    "        weights = np.ones_like(neigh_ind)\n",
    "\n",
    "        all_rows = np.arange(X.shape[0])\n",
    "        probabilities = []\n",
    "        for k, classes_k in enumerate(classes_):\n",
    "            pred_labels = _y[:, k][neigh_ind]\n",
    "            proba_k = np.zeros((n_samples, classes_k.size))\n",
    "            for i, idx in enumerate(pred_labels.T):\n",
    "                proba_k[all_rows, idx] += weights[:, i]\n",
    "            normalizer = proba_k.sum(axis=1)[:, np.newaxis]\n",
    "            normalizer[normalizer == 0.0] = 1.0\n",
    "            proba_k /= normalizer\n",
    "\n",
    "            probabilities.append(proba_k)\n",
    "\n",
    "        if not self.outputs_2d_:\n",
    "            probabilities = probabilities[0]\n",
    "\n",
    "        return probabilities\n",
    "\n",
    "    def score(self, X, y):\n",
    "        y = y.astype(int)\n",
    "        X = X.astype(float)\n",
    "        return super(MyKNeighborsClassifier, self).score(X, y)\n"
   ]
  },
  {
   "cell_type": "markdown",
   "metadata": {},
   "source": [
    "**IRIS**"
   ]
  },
  {
   "cell_type": "code",
   "execution_count": 25,
   "metadata": {
    "collapsed": true
   },
   "outputs": [],
   "source": [
    "iris = datasets.load_iris()"
   ]
  },
  {
   "cell_type": "code",
   "execution_count": 26,
   "metadata": {
    "collapsed": true
   },
   "outputs": [],
   "source": [
    "X_train, X_test, y_train, y_test = train_test_split(iris.data, iris.target, test_size=0.1, stratify=iris.target)"
   ]
  },
  {
   "cell_type": "code",
   "execution_count": 27,
   "metadata": {
    "collapsed": true
   },
   "outputs": [],
   "source": [
    "clf = KNeighborsClassifier(n_neighbors=2)\n",
    "my_clf = MyKNeighborsClassifier(n_neighbors=2)"
   ]
  },
  {
   "cell_type": "code",
   "execution_count": 28,
   "metadata": {},
   "outputs": [
    {
     "name": "stdout",
     "output_type": "stream",
     "text": [
      "Wall time: 1e+03 µs\n"
     ]
    },
    {
     "data": {
      "text/plain": [
       "KNeighborsClassifier(algorithm='auto', leaf_size=30, metric='minkowski',\n",
       "           metric_params=None, n_jobs=1, n_neighbors=2, p=2,\n",
       "           weights='uniform')"
      ]
     },
     "execution_count": 28,
     "metadata": {},
     "output_type": "execute_result"
    }
   ],
   "source": [
    "%time clf.fit(X_train, y_train)"
   ]
  },
  {
   "cell_type": "code",
   "execution_count": 29,
   "metadata": {},
   "outputs": [
    {
     "name": "stdout",
     "output_type": "stream",
     "text": [
      "Wall time: 0 ns\n"
     ]
    }
   ],
   "source": [
    "%time my_clf.fit(X_train, y_train)"
   ]
  },
  {
   "cell_type": "code",
   "execution_count": 30,
   "metadata": {},
   "outputs": [
    {
     "name": "stdout",
     "output_type": "stream",
     "text": [
      "Wall time: 1e+03 µs\n"
     ]
    },
    {
     "data": {
      "text/plain": [
       "array([2, 1, 0, 0, 0, 1, 0, 1, 2, 2, 1, 1, 0, 2, 2])"
      ]
     },
     "execution_count": 30,
     "metadata": {},
     "output_type": "execute_result"
    }
   ],
   "source": [
    "%time clf.predict(X_test)"
   ]
  },
  {
   "cell_type": "code",
   "execution_count": 31,
   "metadata": {},
   "outputs": [
    {
     "name": "stdout",
     "output_type": "stream",
     "text": [
      "Wall time: 1 ms\n"
     ]
    },
    {
     "data": {
      "text/plain": [
       "array([2, 1, 0, 0, 0, 1, 0, 1, 2, 2, 1, 1, 0, 2, 2])"
      ]
     },
     "execution_count": 31,
     "metadata": {},
     "output_type": "execute_result"
    }
   ],
   "source": [
    "%time my_clf.predict(X_test)"
   ]
  },
  {
   "cell_type": "code",
   "execution_count": 32,
   "metadata": {},
   "outputs": [
    {
     "name": "stdout",
     "output_type": "stream",
     "text": [
      "Wall time: 1e+03 µs\n"
     ]
    },
    {
     "data": {
      "text/plain": [
       "array([[ 0.,  0.,  1.],\n",
       "       [ 0.,  1.,  0.],\n",
       "       [ 1.,  0.,  0.],\n",
       "       [ 1.,  0.,  0.],\n",
       "       [ 1.,  0.,  0.],\n",
       "       [ 0.,  1.,  0.],\n",
       "       [ 1.,  0.,  0.],\n",
       "       [ 0.,  1.,  0.],\n",
       "       [ 0.,  0.,  1.],\n",
       "       [ 0.,  0.,  1.],\n",
       "       [ 0.,  1.,  0.],\n",
       "       [ 0.,  1.,  0.],\n",
       "       [ 1.,  0.,  0.],\n",
       "       [ 0.,  0.,  1.],\n",
       "       [ 0.,  0.,  1.]])"
      ]
     },
     "execution_count": 32,
     "metadata": {},
     "output_type": "execute_result"
    }
   ],
   "source": [
    "%time clf.predict_proba(X_test)"
   ]
  },
  {
   "cell_type": "code",
   "execution_count": 33,
   "metadata": {
    "scrolled": true
   },
   "outputs": [
    {
     "name": "stdout",
     "output_type": "stream",
     "text": [
      "Wall time: 0 ns\n"
     ]
    },
    {
     "data": {
      "text/plain": [
       "array([[ 0.,  0.,  1.],\n",
       "       [ 0.,  1.,  0.],\n",
       "       [ 1.,  0.,  0.],\n",
       "       [ 1.,  0.,  0.],\n",
       "       [ 1.,  0.,  0.],\n",
       "       [ 0.,  1.,  0.],\n",
       "       [ 1.,  0.,  0.],\n",
       "       [ 0.,  1.,  0.],\n",
       "       [ 0.,  0.,  1.],\n",
       "       [ 0.,  0.,  1.],\n",
       "       [ 0.,  1.,  0.],\n",
       "       [ 0.,  1.,  0.],\n",
       "       [ 1.,  0.,  0.],\n",
       "       [ 0.,  0.,  1.],\n",
       "       [ 0.,  0.,  1.]])"
      ]
     },
     "execution_count": 33,
     "metadata": {},
     "output_type": "execute_result"
    }
   ],
   "source": [
    "%time my_clf.predict_proba(X_test)"
   ]
  },
  {
   "cell_type": "code",
   "execution_count": 34,
   "metadata": {},
   "outputs": [
    {
     "data": {
      "text/plain": [
       "0.8666666666666667"
      ]
     },
     "execution_count": 34,
     "metadata": {},
     "output_type": "execute_result"
    }
   ],
   "source": [
    "clf.score(X_test, y_test)"
   ]
  },
  {
   "cell_type": "code",
   "execution_count": 35,
   "metadata": {},
   "outputs": [
    {
     "data": {
      "text/plain": [
       "0.8666666666666667"
      ]
     },
     "execution_count": 35,
     "metadata": {},
     "output_type": "execute_result"
    }
   ],
   "source": [
    "my_clf.score(X_test, y_test)"
   ]
  },
  {
   "cell_type": "code",
   "execution_count": 36,
   "metadata": {},
   "outputs": [
    {
     "data": {
      "image/png": "iVBORw0KGgoAAAANSUhEUgAAAYQAAAD8CAYAAAB3u9PLAAAABHNCSVQICAgIfAhkiAAAAAlwSFlz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\nBwTnnHMBDwjOOecA+P9c/v71oumqIAAAAABJRU5ErkJggg==\n",
      "text/plain": [
       "<matplotlib.figure.Figure at 0xf76ddd8>"
      ]
     },
     "metadata": {},
     "output_type": "display_data"
    }
   ],
   "source": [
    "num_n = 30\n",
    "num_av = 2000\n",
    "scm = np.zeros(num_n)\n",
    "sc = np.zeros(num_av)\n",
    "for n in range(1, num_n + 1):\n",
    "    for i in range(num_av):\n",
    "        X_train, X_test, y_train, y_test = train_test_split(iris.data, iris.target, test_size=0.1, stratify=iris.target)\n",
    "        my_clf = MyKNeighborsClassifier(n_neighbors=n)\n",
    "        my_clf.fit(X_train, y_train)\n",
    "        sc[i] = my_clf.score(X_test, y_test)\n",
    "    scm[n - 1] = sc.mean()\n",
    "plt.plot(range(1, num_n + 1), scm, 'ro-')\n",
    "plt.show()"
    "# исходя из графика видно, что наиболее хорошо алгоритм работает при ~16-18 соседях"
   ]
  },
  {
   "cell_type": "markdown",
   "metadata": {},
   "source": [
    "**MNIST**"
   ]
  },
  {
   "cell_type": "code",
   "execution_count": 43,
   "metadata": {
    "collapsed": true
   },
   "outputs": [],
   "source": [
    "mnist = fetch_mldata('MNIST original')"
   ]
  },
  {
   "cell_type": "code",
   "execution_count": 44,
   "metadata": {
    "collapsed": true
   },
   "outputs": [],
   "source": [
    "X_train, X_test, y_train, y_test = train_test_split(mnist.data, mnist.target, test_size=0.1, stratify=mnist.target)"
   ]
  },
  {
   "cell_type": "code",
   "execution_count": 45,
   "metadata": {
    "collapsed": true
   },
   "outputs": [],
   "source": [
    "clf = KNeighborsClassifier(n_neighbors=2)\n",
    "my_clf = MyKNeighborsClassifier(n_neighbors=2)"
   ]
  },
  {
   "cell_type": "code",
   "execution_count": 46,
   "metadata": {},
   "outputs": [
    {
     "name": "stdout",
     "output_type": "stream",
     "text": [
      "Wall time: 20.6 s\n"
     ]
    },
    {
     "data": {
      "text/plain": [
       "KNeighborsClassifier(algorithm='auto', leaf_size=30, metric='minkowski',\n",
       "           metric_params=None, n_jobs=1, n_neighbors=2, p=2,\n",
       "           weights='uniform')"
      ]
     },
     "execution_count": 46,
     "metadata": {},
     "output_type": "execute_result"
    }
   ],
   "source": [
    "%time clf.fit(X_train, y_train)"
   ]
  },
  {
   "cell_type": "code",
   "execution_count": 47,
   "metadata": {},
   "outputs": [
    {
     "name": "stdout",
     "output_type": "stream",
     "text": [
      "Wall time: 19.2 s\n"
     ]
    }
   ],
   "source": [
    "%time my_clf.fit(X_train, y_train)"
   ]
  },
  {
   "cell_type": "code",
   "execution_count": 48,
   "metadata": {},
   "outputs": [
    {
     "name": "stdout",
     "output_type": "stream",
     "text": [
      "Wall time: 11min 4s\n"
     ]
    },
    {
     "data": {
      "text/plain": [
       "array([ 9.,  5.,  4., ...,  7.,  5.,  4.])"
      ]
     },
     "execution_count": 48,
     "metadata": {},
     "output_type": "execute_result"
    }
   ],
   "source": [
    "%time clf.predict(X_test)"
   ]
  },
  {
   "cell_type": "code",
   "execution_count": 49,
   "metadata": {},
   "outputs": [
    {
     "name": "stdout",
     "output_type": "stream",
     "text": [
      "Wall time: 11min 9s\n"
     ]
    },
    {
     "data": {
      "text/plain": [
       "array([9, 5, 4, ..., 7, 5, 4])"
      ]
     },
     "execution_count": 49,
     "metadata": {},
     "output_type": "execute_result"
    }
   ],
   "source": [
    "%time my_clf.predict(X_test)"
   ]
  },
  {
   "cell_type": "code",
   "execution_count": 31,
   "metadata": {},
   "outputs": [
    {
     "name": "stdout",
     "output_type": "stream",
     "text": [
      "Wall time: 10min 49s\n"
     ]
    },
    {
     "data": {
      "text/plain": [
       "array([[ 1.,  0.,  0., ...,  0.,  0.,  0.],\n",
       "       [ 0.,  0.,  0., ...,  1.,  0.,  0.],\n",
       "       [ 0.,  0.,  0., ...,  1.,  0.,  0.],\n",
       "       ..., \n",
       "       [ 0.,  0.,  0., ...,  0.,  0.,  0.],\n",
       "       [ 0.,  0.,  0., ...,  0.,  0.,  1.],\n",
       "       [ 0.,  0.,  0., ...,  0.,  0.,  0.]])"
      ]
     },
     "execution_count": 31,
     "metadata": {},
     "output_type": "execute_result"
    }
   ],
   "source": [
    "%time clf.predict_proba(X_test)"
   ]
  },
  {
   "cell_type": "code",
   "execution_count": 32,
   "metadata": {},
   "outputs": [
    {
     "name": "stdout",
     "output_type": "stream",
     "text": [
      "Wall time: 11min\n"
     ]
    },
    {
     "data": {
      "text/plain": [
       "array([[ 1.,  0.,  0., ...,  0.,  0.,  0.],\n",
       "       [ 0.,  0.,  0., ...,  1.,  0.,  0.],\n",
       "       [ 0.,  0.,  0., ...,  1.,  0.,  0.],\n",
       "       ..., \n",
       "       [ 0.,  0.,  0., ...,  0.,  0.,  0.],\n",
       "       [ 0.,  0.,  0., ...,  0.,  0.,  1.],\n",
       "       [ 0.,  0.,  0., ...,  0.,  0.,  0.]])"
      ]
     },
     "execution_count": 32,
     "metadata": {},
     "output_type": "execute_result"
    }
   ],
   "source": [
    "%time my_clf.predict_proba(X_test)"
   ]
  },
  {
   "cell_type": "code",
   "execution_count": 34,
   "metadata": {},
   "outputs": [
    {
     "data": {
      "text/plain": [
       "0.96928571428571431"
      ]
     },
     "execution_count": 34,
     "metadata": {},
     "output_type": "execute_result"
    }
   ],
   "source": [
    "clf.score(X_test, y_test)"
   ]
  },
  {
   "cell_type": "code",
   "execution_count": 35,
   "metadata": {},
   "outputs": [
    {
     "data": {
      "text/plain": [
       "0.96928571428571431"
      ]
     },
     "execution_count": 35,
     "metadata": {},
     "output_type": "execute_result"
    }
   ],
   "source": [
    "my_clf.score(X_test, y_test)"
   ]
  },
  {
   "cell_type": "markdown",
   "metadata": {},
   "source": [
    "Задание 5"
   ]
  },
  {
   "cell_type": "code",
   "execution_count": 36,
   "metadata": {
    "collapsed": true
   },
   "outputs": [],
   "source": [
    "# seaborn — библиотека для визуализации данных\n",
    "# matplotlib — библиотека для построения графиков\n",
    "# train_test_split — разбивает данные на две части: тренировочную и тестовую\n",
    "# Pipeline (from sklearn.pipeline import Pipeline) — для последовательного преобразования данных\n",
    "# StandardScaler (from sklearn.preprocessing import StandardScaler) — стандартизует данные, обнуляя среднее и масштабирует до единичной дисперсии\n",
    "# ClassifierMixin — класс для всех классификаторов в sklearn\n",
    "# NeighborsBase — базовый класс для оценок ближайших соседей\n",
    "# KNeighborsMixin — для поиска к-соседей\n",
    "# SupervisedIntegerMixin — для обучениея с использованием X в качестве данных обучения и y в качестве целевых значений"
   ]
  }
 ],
 "metadata": {
  "kernelspec": {
   "display_name": "Python 2",
   "language": "python",
   "name": "python2"
  },
  "language_info": {
   "codemirror_mode": {
    "name": "ipython",
    "version": 2
   },
   "file_extension": ".py",
   "mimetype": "text/x-python",
   "name": "python",
   "nbconvert_exporter": "python",
   "pygments_lexer": "ipython2",
   "version": "2.7.14"
  }
 },
 "nbformat": 4,
 "nbformat_minor": 2
}
